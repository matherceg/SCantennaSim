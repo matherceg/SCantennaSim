import numpy as np
import matplotlib.pyplot as plt
from matplotlib.animation import FuncAnimation
from mpl_toolkits.mplot3d import Axes3D  # Required for 3D plotting
from scipy.spatial.transform import Rotation

# Load simulation data.
data = np.loadtxt('SimulationData.txt',skiprows=1,max_rows=542)
time   = data[:, 0]           # Simulation time (s)
scPos  = data[:, 1:4]         # Spacecraft inertial position (km)
roll   = data[:, 4]           # Euler angle 1 (roll, in degrees)
pitch  = data[:, 5]           # Euler angle 2 (pitch, in degrees)
yaw    = data[:, 6]           # Euler angle 3 (yaw, in degrees)

# The first antena is aligned with the axis of the SC
rotAn1=Rotation.from_euler('x',0,degrees=True) # To see the matrix rotA1.as_matrix()
# The second antena is rotated by 90degrees about Y axis of the SC
rotAn2=Rotation.from_euler('y',90,degrees=True) 

# Orientation of the spacecraft
rotSC = Rotation.from_euler('zyx',data[:, 4:7],degrees=True)

# Define the ground station inertial position (km)
GS_inertial = np.array([4449.027424408857, 784.483572835172, 4487.419375287326])  # GS.Location = 45.0 Latitude, 10.0 Lon, 0.1km Altitude
gs_zenith = GS_inertial / np.linalg.norm(GS_inertial)

# Compute the line-of-sight vector from the spacecraft to the ground station.
v_GS2SC = scPos - GS_inertial  # Column vector
v_GS2SC_n = v_GS2SC / np.linalg.norm(v_GS2SC)
